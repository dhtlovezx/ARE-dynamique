{
 "cells": [
  {
   "cell_type": "code",
   "execution_count": 4,
   "metadata": {},
   "outputs": [],
   "source": [
    "# -*- coding: utf-8 -*-\n",
    "import scipy.integrate as spi\n",
    "import numpy as np\n",
    "import pylab as pl"
   ]
  },
  {
   "cell_type": "markdown",
   "metadata": {},
   "source": [
    "# Modèles compartimentaux en épidémiologie "
   ]
  },
  {
   "cell_type": "markdown",
   "metadata": {},
   "source": [
    "Les modèles mathématiques de maladies infectieuses, d'abord outils purement théoriques, ont commencé à être mis en pratique avec le problème du SIDA dans les années 1980. La course d'une épidémie dans une population dépendant de paramètres extrêmement nombreux (stades cliniques possibles, déplacement des individus, souches de la maladie), les modèles mathématiques se sont progressivement affirmés comme outils d'aide à la décision pour les politiques publiquesC 1. En effet, les modèles permettent de prévoir les conséquences pour la population d'actions aussi variées que la vaccination, la mise en quarantaine ou la distribution de tests de dépistage. Une approche fondatrice dans les années 1920 fut celle des modèles compartimentaux, qui divisent la population en classes épidémiologiques telles que les individus susceptibles d'être infectés, ceux qui sont infectieux, et ceux qui ont acquis une immunité à la suite de la guérison. Depuis, cette approche fut utilisée pour modéliser de très nombreuses maladies, et continue d'être un sujet de recherche actif en prenant en compte de nouveaux éléments tels que les découvertes de la science des réseaux. https://fr.wikipedia.org/wiki/Mod%C3%A8les_compartimentaux_en_%C3%A9pid%C3%A9miologie"
   ]
  },
  {
   "cell_type": "markdown",
   "metadata": {},
   "source": [
    "Nous traitons la publication comme un virus et les personnes comme des personnes susceptibles.Au cours de la discussion qui suit, nous discuterons de la situation du rétablissement.\n"
   ]
  },
  {
   "cell_type": "markdown",
   "metadata": {},
   "source": [
    "Hypothèse:Tous ceux qui ont vu cette publication diffuseront cette publicité.\n",
    "\n",
    "Les paramètres qui sont utilisés dans le modele"
   ]
  },
  {
   "cell_type": "code",
   "execution_count": 5,
   "metadata": {},
   "outputs": [],
   "source": [
    "p_0=1.356\n",
    "\"\"\"La probabilité qu'une publication se transmette d'une personne qui a déjà vu à un individu non vu par unité de temps est p_0\"\"\"\n",
    "p_1=0\n",
    "#p_1 est La probabilité les gens qui a déjà vu va arreter diffuer cette publication.\n",
    "I0=1e-6\n",
    "#I0 est la partie initiale de les personnes qui a vu ce publication\n",
    "ND=80\n",
    "#ND est tous les temps\n",
    "TS=1.0\n",
    "INPUT = (1.0-I0, I0)"
   ]
  },
  {
   "cell_type": "markdown",
   "metadata": {},
   "source": [
    "on écrit une fonction diff_pub pour obtient les gens qui ont vu ou pas."
   ]
  },
  {
   "cell_type": "code",
   "execution_count": 6,
   "metadata": {},
   "outputs": [],
   "source": [
    "def diff_pub(INP,t):\n",
    "    Y=np.zeros((2)) \n",
    "    V = INP\n",
    "    Y[0] = - p_0 * V[0] * V[1] + p_1 * V[1]\n",
    "    Y[1] = p_0 * V[0] * V[1] - p_1 * V[1]\n",
    "    return Y\n"
   ]
  },
  {
   "cell_type": "markdown",
   "metadata": {},
   "source": [
    "on calcule les nombres du monde à chaque moment. "
   ]
  },
  {
   "cell_type": "code",
   "execution_count": 7,
   "metadata": {},
   "outputs": [
    {
     "name": "stdout",
     "output_type": "stream",
     "text": [
      "[[9.99999000e-01 1.00000000e-06]\n",
      " [9.99998569e-01 1.43131806e-06]\n",
      " [9.99997956e-01 2.04419500e-06]\n",
      " [9.99997071e-01 2.92898970e-06]\n",
      " [9.99995821e-01 4.17944999e-06]\n",
      " [9.99994029e-01 5.97131929e-06]\n",
      " [9.99991470e-01 8.53042579e-06]\n",
      " [9.99987815e-01 1.21853338e-05]\n",
      " [9.99982600e-01 1.73995987e-05]\n",
      " [9.99975150e-01 2.48503152e-05]\n",
      " [9.99964516e-01 3.54844426e-05]\n",
      " [9.99949327e-01 5.06729012e-05]\n",
      " [9.99927647e-01 7.23531338e-05]\n",
      " [9.99896697e-01 1.03302600e-04]\n",
      " [9.99852512e-01 1.47487558e-04]\n",
      " [9.99789437e-01 2.10562537e-04]\n",
      " [9.99699410e-01 3.00589600e-04]\n",
      " [9.99570937e-01 4.29063182e-04]\n",
      " [9.99387566e-01 6.12434466e-04]\n",
      " [9.99125901e-01 8.74098731e-04]\n",
      " [9.98752598e-01 1.24740249e-03]\n",
      " [9.98220145e-01 1.77985495e-03]\n",
      " [9.97460988e-01 2.53901164e-03]\n",
      " [9.96379205e-01 3.62079504e-03]\n",
      " [9.94838902e-01 5.16109784e-03]\n",
      " [9.92648189e-01 7.35181099e-03]\n",
      " [9.89537383e-01 1.04626174e-02]\n",
      " [9.85130004e-01 1.48699961e-02]\n",
      " [9.78905603e-01 2.10943967e-02]\n",
      " [9.70154695e-01 2.98453046e-02]\n",
      " [9.57929542e-01 4.20704582e-02]\n",
      " [9.41001265e-01 5.89987348e-02]\n",
      " [9.17845586e-01 8.21544136e-02]\n",
      " [8.86696100e-01 1.13303900e-01]\n",
      " [8.45721257e-01 1.54278743e-01]\n",
      " [7.93381260e-01 2.06618740e-01]\n",
      " [7.28975014e-01 2.71024986e-01]\n",
      " [6.53266433e-01 3.46733567e-01]\n",
      " [5.68915645e-01 4.31084355e-01]\n",
      " [4.80367211e-01 5.19632789e-01]\n",
      " [3.93035257e-01 6.06964743e-01]\n",
      " [3.12046022e-01 6.87953978e-01]\n",
      " [2.41115942e-01 7.58884058e-01]\n",
      " [1.82042346e-01 8.17957654e-01]\n",
      " [1.34869666e-01 8.65130334e-01]\n",
      " [9.84495873e-02 9.01550413e-01]\n",
      " [7.10565821e-02 9.28943418e-01]\n",
      " [5.08555719e-02 9.49144428e-01]\n",
      " [3.61739597e-02 9.63826040e-01]\n",
      " [2.56164220e-02 9.74383578e-01]\n",
      " [1.80823442e-02 9.81917656e-01]\n",
      " [1.27351619e-02 9.87264838e-01]\n",
      " [8.95478940e-03 9.91045211e-01]\n",
      " [6.28945418e-03 9.93710546e-01]\n",
      " [4.41390561e-03 9.95586094e-01]\n",
      " [3.09591304e-03 9.96904087e-01]\n",
      " [2.17061518e-03 9.97829385e-01]\n",
      " [1.52144526e-03 9.98478555e-01]\n",
      " [1.06621572e-03 9.98933784e-01]\n",
      " [7.47092860e-04 9.99252907e-01]\n",
      " [5.23435030e-04 9.99476565e-01]\n",
      " [3.66709204e-04 9.99633291e-01]\n",
      " [2.56897819e-04 9.99743102e-01]\n",
      " [1.79963674e-04 9.99820036e-01]\n",
      " [1.26066314e-04 9.99873934e-01]\n",
      " [8.83093162e-05 9.99911691e-01]\n",
      " [6.18595372e-05 9.99938140e-01]\n",
      " [4.33320939e-05 9.99956668e-01]\n",
      " [3.03544504e-05 9.99969646e-01]\n",
      " [2.12626507e-05 9.99978737e-01]\n",
      " [1.48939678e-05 9.99985106e-01]\n",
      " [1.04328251e-05 9.99989567e-01]\n",
      " [7.30798928e-06 9.99992692e-01]\n",
      " [5.11750597e-06 9.99994882e-01]\n",
      " [3.58425130e-06 9.99996416e-01]\n",
      " [2.51107091e-06 9.99997489e-01]\n",
      " [1.75902916e-06 9.99998241e-01]\n",
      " [1.23298615e-06 9.99998767e-01]\n",
      " [8.64825546e-07 9.99999135e-01]\n",
      " [6.06161561e-07 9.99999394e-01]\n",
      " [4.17934492e-07 9.99999582e-01]]\n"
     ]
    }
   ],
   "source": [
    " t_start = 0.0; t_end = ND; t_inc = TS\n",
    " t_range = np.arange(t_start, t_end+t_inc, t_inc)\n",
    " RES = spi.odeint(diff_pub,INPUT,t_range)\n",
    " \"\"\"RES est le résultat de scores individuels qui a déjà vu et non vu pour chaque pas de temps\"\"\"\n",
    " print(RES)"
   ]
  },
  {
   "cell_type": "markdown",
   "metadata": {},
   "source": [
    "on exprime les valeur précédents en terms des graphies"
   ]
  },
  {
   "cell_type": "code",
   "execution_count": 8,
   "metadata": {},
   "outputs": [
    {
     "data": {
      "image/png": "[encoded data removed]",
      "text/plain": [
       "<Figure size 432x288 with 1 Axes>"
      ]
     },
     "metadata": {},
     "output_type": "display_data"
    }
   ],
   "source": [
    "#Ploting\n",
    "pl.plot(RES[:,0], '-bs', label='non vu')\n",
    "pl.plot(RES[:,1], '-ro', label='vu')\n",
    "pl.legend(loc=0)\n",
    "pl.title('initial model de diffusion de publication')\n",
    "pl.xlabel('Time')\n",
    "pl.ylabel('')\n",
    "pl.savefig('Premiere modele.png', dpi=900)\n",
    "pl.show()"
   ]
  },
  {
   "cell_type": "markdown",
   "metadata": {},
   "source": [
    "Comme vous pouvez le voir sur la photo, tout le monde a vu cette publication à environ t = 16."
   ]
  },
  {
   "cell_type": "markdown",
   "metadata": {},
   "source": [
    "Après,on va discuter le proportion de gens qui ont déjà vu vont arreter diffuser cette publication.\n",
    "Hypothèse:Après un certain temps, certaines personnes ayant vu cette publicité arrêteront diffuser.."
   ]
  },
  {
   "cell_type": "code",
   "execution_count": 9,
   "metadata": {},
   "outputs": [],
   "source": [
    "p_0=1.326\n",
    "p_1=1\n",
    "I0=1e-6\n",
    "ND=75\n",
    "TS=1.0\n",
    "INPUT = (1.0-I0, I0)"
   ]
  },
  {
   "cell_type": "code",
   "execution_count": 10,
   "metadata": {},
   "outputs": [
    {
     "name": "stdout",
     "output_type": "stream",
     "text": [
      "[[9.99999000e-01 1.00000000e-06]\n",
      " [9.99998611e-01 1.38887545e-06]\n",
      " [9.99998080e-01 1.92015674e-06]\n",
      " [9.99997323e-01 2.67734724e-06]\n",
      " [9.99996293e-01 3.70736459e-06]\n",
      " [9.99994864e-01 5.13645537e-06]\n",
      " [9.99992879e-01 7.12130678e-06]\n",
      " [9.99990123e-01 9.87675046e-06]\n",
      " [9.99986315e-01 1.36847428e-05]\n",
      " [9.99981036e-01 1.89635067e-05]\n",
      " [9.99973720e-01 2.62801439e-05]\n",
      " [9.99963584e-01 3.64157976e-05]\n",
      " [9.99949538e-01 5.04619633e-05]\n",
      " [9.99930082e-01 6.99179972e-05]\n",
      " [9.99903133e-01 9.68665253e-05]\n",
      " [9.99865803e-01 1.34197222e-04]\n",
      " [9.99814105e-01 1.85894506e-04]\n",
      " [9.99742508e-01 2.57491709e-04]\n",
      " [9.99643416e-01 3.56584044e-04]\n",
      " [9.99506254e-01 4.93745650e-04]\n",
      " [9.99316478e-01 6.83522044e-04]\n",
      " [9.99054040e-01 9.45960243e-04]\n",
      " [9.98691397e-01 1.30860278e-03]\n",
      " [9.98190750e-01 1.80925036e-03]\n",
      " [9.97500519e-01 2.49948111e-03]\n",
      " [9.96550690e-01 3.44930958e-03]\n",
      " [9.95246969e-01 4.75303128e-03]\n",
      " [9.93463779e-01 6.53622077e-03]\n",
      " [9.91036473e-01 8.96352659e-03]\n",
      " [9.87753898e-01 1.22461024e-02]\n",
      " [9.83353654e-01 1.66463458e-02]\n",
      " [9.77524420e-01 2.24755801e-02]\n",
      " [9.69921781e-01 3.00782190e-02]\n",
      " [9.60205587e-01 3.97944128e-02]\n",
      " [9.48105619e-01 5.18943808e-02]\n",
      " [9.33513597e-01 6.64864033e-02]\n",
      " [9.16583134e-01 8.34168661e-02]\n",
      " [8.97797938e-01 1.02202062e-01]\n",
      " [8.77960706e-01 1.22039294e-01]\n",
      " [8.58077215e-01 1.41922785e-01]\n",
      " [8.39162462e-01 1.60837538e-01]\n",
      " [8.22043277e-01 1.77956723e-01]\n",
      " [8.07233534e-01 1.92766466e-01]\n",
      " [7.94914142e-01 2.05085858e-01]\n",
      " [7.84996157e-01 2.15003843e-01]\n",
      " [7.77219659e-01 2.22780341e-01]\n",
      " [7.71247617e-01 2.28752383e-01]\n",
      " [7.66734079e-01 2.33265921e-01]\n",
      " [7.63363907e-01 2.36636093e-01]\n",
      " [7.60870146e-01 2.39129854e-01]\n",
      " [7.59037222e-01 2.40962778e-01]\n",
      " [7.57696649e-01 2.42303351e-01]\n",
      " [7.56719711e-01 2.43280289e-01]\n",
      " [7.56009659e-01 2.43990341e-01]\n",
      " [7.55494536e-01 2.44505464e-01]\n",
      " [7.55121375e-01 2.44878625e-01]\n",
      " [7.54851312e-01 2.45148688e-01]\n",
      " [7.54656009e-01 2.45343991e-01]\n",
      " [7.54514843e-01 2.45485157e-01]\n",
      " [7.54412848e-01 2.45587152e-01]\n",
      " [7.54339175e-01 2.45660825e-01]\n",
      " [7.54285970e-01 2.45714030e-01]\n",
      " [7.54247552e-01 2.45752448e-01]\n",
      " [7.54219813e-01 2.45780187e-01]\n",
      " [7.54199787e-01 2.45800213e-01]\n",
      " [7.54185330e-01 2.45814670e-01]\n",
      " [7.54174894e-01 2.45825106e-01]\n",
      " [7.54167361e-01 2.45832639e-01]\n",
      " [7.54161923e-01 2.45838077e-01]\n",
      " [7.54157998e-01 2.45842002e-01]\n",
      " [7.54155164e-01 2.45844836e-01]\n",
      " [7.54153119e-01 2.45846881e-01]\n",
      " [7.54151643e-01 2.45848357e-01]\n",
      " [7.54150577e-01 2.45849423e-01]\n",
      " [7.54149809e-01 2.45850191e-01]\n",
      " [7.54149253e-01 2.45850747e-01]]\n"
     ]
    }
   ],
   "source": [
    "def diff_pub(INP,t):\n",
    "    Y=np.zeros((2)) \n",
    "    V = INP\n",
    "    Y[0] = - p_0 * V[0] * V[1] + p_1 * V[1]\n",
    "    Y[1] = p_0 * V[0] * V[1] - p_1 * V[1]\n",
    "    return Y\n",
    "t_start = 0.0; t_end = ND; t_inc = TS\n",
    "t_range = np.arange(t_start, t_end+t_inc, t_inc)\n",
    "RES = spi.odeint(diff_pub,INPUT,t_range)\n",
    "\n",
    "print(RES)"
   ]
  },
  {
   "cell_type": "code",
   "execution_count": 11,
   "metadata": {
    "scrolled": true
   },
   "outputs": [
    {
     "data": {
      "image/png": "[encoded data removed]",
      "text/plain": [
       "<Figure size 432x288 with 1 Axes>"
      ]
     },
     "metadata": {},
     "output_type": "display_data"
    }
   ],
   "source": [
    "#Ploting\n",
    "pl.plot(RES[:,0], '-bs', label='non diffuser')\n",
    "pl.plot(RES[:,1], '-ro', label='encore diffuser')\n",
    "pl.legend(loc=0)\n",
    "pl.title('deuxième modèle')\n",
    "pl.xlabel('Time')\n",
    "pl.ylabel('les gens ')\n",
    "pl.savefig('deuxième modèle.png', dpi=900)\n",
    "pl.show()"
   ]
  },
  {
   "cell_type": "markdown",
   "metadata": {},
   "source": [
    "Comme on peut le voir sur la figure, à environ t = 17, la personne qui a vu la publication était à peu près égale à celle qui a arreté diffuser la publication, en maintenant un équilibre dynamique."
   ]
  },
  {
   "cell_type": "markdown",
   "metadata": {},
   "source": [
    "Après, on va discuter 3 types de personne\n",
    "1.non vu\n",
    "2.vu et arreter diffuser\n",
    "3.encore diffuser"
   ]
  },
  {
   "cell_type": "code",
   "execution_count": 12,
   "metadata": {},
   "outputs": [],
   "source": [
    "p_0=0.952\n",
    "p_1=0.3523\n",
    "TS=1.0\n",
    "ND=70.0\n",
    "S0=1-1e-6\n",
    "I0=1e-6\n",
    "INPUT = (S0, I0, 0.0)"
   ]
  },
  {
   "cell_type": "code",
   "execution_count": 13,
   "metadata": {},
   "outputs": [
    {
     "name": "stdout",
     "output_type": "stream",
     "text": [
      "[[9.99999000e-01 1.00000000e-06 0.00000000e+00]\n",
      " [9.99997682e-01 1.83030493e-06 4.87772593e-07]\n",
      " [9.99995286e-01 3.33981960e-06 1.37455774e-06]\n",
      " [9.99990924e-01 6.08711424e-06 2.98850266e-06]\n",
      " [9.99982963e-01 1.11024269e-05 5.93486258e-06]\n",
      " [9.99968470e-01 2.02317412e-05 1.12981822e-05]\n",
      " [9.99942060e-01 3.68681239e-05 2.10720968e-05]\n",
      " [9.99893937e-01 6.71811177e-05 3.88821108e-05]\n",
      " [9.99806289e-01 1.22388852e-04 7.13222114e-05]\n",
      " [9.99646661e-01 2.22927877e-04 1.30410634e-04]\n",
      " [9.99356136e-01 4.05886829e-04 2.37976956e-04]\n",
      " [9.98827442e-01 7.38752611e-04 4.33804950e-04]\n",
      " [9.97866271e-01 1.34364092e-03 7.90088246e-04]\n",
      " [9.96121547e-01 2.44075913e-03 1.43769339e-03]\n",
      " [9.92963602e-01 4.42364958e-03 2.61274792e-03]\n",
      " [9.87277259e-01 7.98467749e-03 4.73806364e-03]\n",
      " [9.77132949e-01 1.43068878e-02 8.56016363e-03]\n",
      " [9.59331674e-01 2.53042168e-02 1.53641093e-02]\n",
      " [9.28976035e-01 4.37608693e-02 2.72630960e-02]\n",
      " [8.79640783e-01 7.29020285e-02 4.74571881e-02]\n",
      " [8.05333565e-01 1.14548598e-01 8.01178363e-02]\n",
      " [7.05102958e-01 1.65593144e-01 1.29303898e-01]\n",
      " [5.87721923e-01 2.15589423e-01 1.96688654e-01]\n",
      " [4.69975944e-01 2.50599507e-01 2.79424549e-01]\n",
      " [3.67492560e-01 2.62055396e-01 3.70452044e-01]\n",
      " [2.87402380e-01 2.51176797e-01 4.61420823e-01]\n",
      " [2.28876055e-01 2.25438800e-01 5.45685146e-01]\n",
      " [1.87493100e-01 1.93016872e-01 6.19490028e-01]\n",
      " [1.58519599e-01 1.59870147e-01 6.81610254e-01]\n",
      " [1.38170359e-01 1.29376103e-01 7.32453538e-01]\n",
      " [1.23745648e-01 1.02997959e-01 7.73256393e-01]\n",
      " [1.13405348e-01 8.10466779e-02 8.05547974e-01]\n",
      " [1.05910859e-01 6.32396780e-02 8.30849463e-01]\n",
      " [1.00425254e-01 4.90438255e-02 8.50530920e-01]\n",
      " [9.63764341e-02 3.78638041e-02 8.65759762e-01]\n",
      " [9.33675577e-02 2.91351020e-02 8.77497340e-01]\n",
      " [9.11191927e-02 2.23630021e-02 8.86517805e-01]\n",
      " [8.94317920e-02 1.71330940e-02 8.93435114e-01]\n",
      " [8.81610706e-02 1.31079335e-02 8.98730996e-01]\n",
      " [8.72015947e-02 1.00178546e-02 9.02780551e-01]\n",
      " [8.64756410e-02 7.65013508e-03 9.05874224e-01]\n",
      " [8.59255046e-02 5.83850150e-03 9.08235994e-01]\n",
      " [8.55080984e-02 4.45384264e-03 9.10038059e-01]\n",
      " [8.51911028e-02 3.39638965e-03 9.11412508e-01]\n",
      " [8.49501906e-02 2.58931889e-03 9.12460491e-01]\n",
      " [8.47670015e-02 1.97363310e-03 9.13259365e-01]\n",
      " [8.46276471e-02 1.50411506e-03 9.13868238e-01]\n",
      " [8.45216043e-02 1.14615988e-03 9.14332236e-01]\n",
      " [8.44408906e-02 8.73314718e-04 9.14685795e-01]\n",
      " [8.43794449e-02 6.65376365e-04 9.14955179e-01]\n",
      " [8.43326608e-02 5.06922529e-04 9.15160417e-01]\n",
      " [8.42970360e-02 3.86188189e-04 9.15316776e-01]\n",
      " [8.42699065e-02 2.94200515e-04 9.15435893e-01]\n",
      " [8.42492452e-02 2.24118688e-04 9.15526636e-01]\n",
      " [8.42335092e-02 1.70728235e-04 9.15595763e-01]\n",
      " [8.42215240e-02 1.30054907e-04 9.15648421e-01]\n",
      " [8.42123952e-02 9.90703987e-05 9.15688534e-01]\n",
      " [8.42054418e-02 7.54666491e-05 9.15719092e-01]\n",
      " [8.42001459e-02 5.74874318e-05 9.15742367e-01]\n",
      " [8.41961120e-02 4.37917002e-05 9.15760096e-01]\n",
      " [8.41930390e-02 3.33580279e-05 9.15773603e-01]\n",
      " [8.41906983e-02 2.54101084e-05 9.15783892e-01]\n",
      " [8.41889153e-02 1.93559037e-05 9.15791729e-01]\n",
      " [8.41875572e-02 1.47441697e-05 9.15797699e-01]\n",
      " [8.41865227e-02 1.12314053e-05 9.15802246e-01]\n",
      " [8.41857347e-02 8.55528550e-06 9.15805710e-01]\n",
      " [8.41851343e-02 6.51666953e-06 9.15808349e-01]\n",
      " [8.41846771e-02 4.96389046e-06 9.15810359e-01]\n",
      " [8.41843288e-02 3.78114096e-06 9.15811890e-01]\n",
      " [8.41840635e-02 2.88016390e-06 9.15813056e-01]\n",
      " [8.41838614e-02 2.19387602e-06 9.15813945e-01]]\n"
     ]
    }
   ],
   "source": [
    "def diff_eqs(INP,t):\n",
    "    Y=np.zeros((3))\n",
    "    V = INP\n",
    "    Y[0] = - p_0 * V[0] * V[1]\n",
    "    Y[1] = p_0 * V[0] * V[1] - p_1 * V[1]\n",
    "    Y[2] = p_1 * V[1]\n",
    "    return Y \n",
    " \n",
    "t_start = 0.0; t_end = ND; t_inc = TS\n",
    "t_range = np.arange(t_start, t_end+t_inc, t_inc)\n",
    "RES = spi.odeint(diff_eqs,INPUT,t_range)\n",
    " \n",
    "print(RES)"
   ]
  },
  {
   "cell_type": "code",
   "execution_count": 89,
   "metadata": {},
   "outputs": [
    {
     "data": {
      "image/png": "[encoded data removed]",
      "text/plain": [
       "<Figure size 432x288 with 1 Axes>"
      ]
     },
     "metadata": {},
     "output_type": "display_data"
    }
   ],
   "source": [
    "#Ploting\n",
    "pl.plot(RES[:,0], '-bs', label='non vu')\n",
    "pl.plot(RES[:,2], '-g^', label='vu et arreter diffuser')\n",
    "pl.plot(RES[:,1], '-ro', label='vu et diffuser')\n",
    "pl.legend(loc=0)\n",
    "pl.title('trosième modèle')\n",
    "pl.xlabel('Time')\n",
    "pl.ylabel('la Proportion de personnes')\n",
    "pl.savefig('trosième modèle.png', dpi=900) \n",
    "pl.show()"
   ]
  },
  {
   "cell_type": "markdown",
   "metadata": {},
   "source": [
    "Comme on peut le voir sur la figure, à la fin, tout le monde a vu des publication et le nombre de personnes qui diffusent des publication a d'abord augmenté, puis diminué, pour finalement devenir des personnes qui ont vu des publication sans se diffuser."
   ]
  }
 ],
 "metadata": {
  "kernelspec": {
   "display_name": "Python 3",
   "language": "python",
   "name": "python3"
  },
  "language_info": {
   "codemirror_mode": {
    "name": "ipython",
    "version": 3
   },
   "file_extension": ".py",
   "mimetype": "text/x-python",
   "name": "python",
   "nbconvert_exporter": "python",
   "pygments_lexer": "ipython3",
   "version": "3.5.3"
  }
 },
 "nbformat": 4,
 "nbformat_minor": 2
}
